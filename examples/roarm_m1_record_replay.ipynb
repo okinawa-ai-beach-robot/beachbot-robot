{
 "cells": [
  {
   "cell_type": "code",
   "execution_count": 1,
   "id": "77b80dd2",
   "metadata": {},
   "outputs": [
    {
     "ename": "ModuleNotFoundError",
     "evalue": "No module named 'Jetson'",
     "output_type": "error",
     "traceback": [
      "\u001b[0;31m---------------------------------------------------------------------------\u001b[0m",
      "\u001b[0;31mModuleNotFoundError\u001b[0m                       Traceback (most recent call last)",
      "Cell \u001b[0;32mIn[1], line 2\u001b[0m\n\u001b[1;32m      1\u001b[0m \u001b[38;5;28;01mimport\u001b[39;00m \u001b[38;5;21;01mtime\u001b[39;00m\n\u001b[0;32m----> 2\u001b[0m \u001b[38;5;28;01mimport\u001b[39;00m \u001b[38;5;21;01mbeachbot\u001b[39;00m\n",
      "File \u001b[0;32m~/src/OIST_BC_project/beach-cleaning-hardware/python-interface/src/beachbot/__init__.py:17\u001b[0m\n\u001b[1;32m     12\u001b[0m     \u001b[38;5;28;01mpass\u001b[39;00m\n\u001b[1;32m     15\u001b[0m __all__ \u001b[38;5;241m=\u001b[39m [\u001b[38;5;124m\"\u001b[39m\u001b[38;5;124mmanipulators\u001b[39m\u001b[38;5;124m\"\u001b[39m, \u001b[38;5;124m\"\u001b[39m\u001b[38;5;124msensors\u001b[39m\u001b[38;5;124m\"\u001b[39m]  \u001b[38;5;66;03m# \"sensors\", \"platforms\"\u001b[39;00m\n\u001b[0;32m---> 17\u001b[0m \u001b[38;5;28;01mfrom\u001b[39;00m \u001b[38;5;21;01m.\u001b[39;00m \u001b[38;5;28;01mimport\u001b[39;00m manipulators\n\u001b[1;32m     18\u001b[0m \u001b[38;5;28;01mfrom\u001b[39;00m \u001b[38;5;21;01m.\u001b[39;00m \u001b[38;5;28;01mimport\u001b[39;00m sensors\n\u001b[1;32m     20\u001b[0m \u001b[38;5;28;01mfrom\u001b[39;00m \u001b[38;5;21;01m.\u001b[39;00m \u001b[38;5;28;01mimport\u001b[39;00m utils\n",
      "File \u001b[0;32m~/src/OIST_BC_project/beach-cleaning-hardware/python-interface/src/beachbot/manipulators/__init__.py:2\u001b[0m\n\u001b[1;32m      1\u001b[0m \u001b[38;5;28;01mfrom\u001b[39;00m \u001b[38;5;21;01m.\u001b[39;00m\u001b[38;5;21;01mroarmm1\u001b[39;00m \u001b[38;5;28;01mimport\u001b[39;00m RoArmM1\n\u001b[0;32m----> 2\u001b[0m \u001b[38;5;28;01mfrom\u001b[39;00m \u001b[38;5;21;01m.\u001b[39;00m\u001b[38;5;21;01mdrive\u001b[39;00m \u001b[38;5;28;01mimport\u001b[39;00m Motor\n",
      "File \u001b[0;32m~/src/OIST_BC_project/beach-cleaning-hardware/python-interface/src/beachbot/manipulators/drive.py:3\u001b[0m\n\u001b[1;32m      1\u001b[0m \u001b[38;5;28;01mimport\u001b[39;00m \u001b[38;5;21;01mtime\u001b[39;00m\n\u001b[1;32m      2\u001b[0m \u001b[38;5;28;01mimport\u001b[39;00m \u001b[38;5;21;01mmath\u001b[39;00m\n\u001b[0;32m----> 3\u001b[0m \u001b[38;5;28;01mimport\u001b[39;00m \u001b[38;5;21;01mJetson\u001b[39;00m\u001b[38;5;21;01m.\u001b[39;00m\u001b[38;5;21;01mGPIO\u001b[39;00m \u001b[38;5;28;01mas\u001b[39;00m \u001b[38;5;21;01mGPIO\u001b[39;00m\n\u001b[1;32m      6\u001b[0m \u001b[38;5;28;01mclass\u001b[39;00m \u001b[38;5;21;01mMotor\u001b[39;00m:\n\u001b[1;32m      7\u001b[0m     \u001b[38;5;28;01mdef\u001b[39;00m \u001b[38;5;21m__init__\u001b[39m(\u001b[38;5;28mself\u001b[39m, pwm_pin: \u001b[38;5;28mint\u001b[39m, in1: \u001b[38;5;28mint\u001b[39m, in2: \u001b[38;5;28mint\u001b[39m, frequency_hz: \u001b[38;5;28mint\u001b[39m) \u001b[38;5;241m-\u001b[39m\u001b[38;5;241m>\u001b[39m \u001b[38;5;28;01mNone\u001b[39;00m:\n",
      "\u001b[0;31mModuleNotFoundError\u001b[0m: No module named 'Jetson'"
     ]
    }
   ],
   "source": [
    "import time\n",
    "import beachbot\n"
   ]
  },
  {
   "cell_type": "code",
   "execution_count": null,
   "id": "787d6d1b",
   "metadata": {},
   "outputs": [],
   "source": [
    "# Connect to robot arm:\n",
    "arm1 = beachbot.manipulators.RoArmM1()"
   ]
  },
  {
   "cell_type": "code",
   "execution_count": null,
   "id": "8692f99b",
   "metadata": {},
   "outputs": [],
   "source": [
    "# Plot joint data:\n",
    "for i in range(10):\n",
    "    time.sleep(1)\n",
    "    q,tau = arm1.get_joint_state()\n",
    "    print(\"Current joint angles:\\t\", q)\n",
    "    print(\"Current tourques:\\t\", tau)"
   ]
  },
  {
   "cell_type": "code",
   "execution_count": null,
   "id": "cad5a80e",
   "metadata": {},
   "outputs": [],
   "source": [
    "# Move left and right (10 deg) from home position (joint 1)\n",
    "for i in range(5):\n",
    "    time.sleep(1)\n",
    "    arm1.set_joint_targets(arm1.q_home)\n",
    "    time.sleep(1)\n",
    "    qn = arm1.q_home[:]\n",
    "    qn[0]+=10\n",
    "    arm1.set_joint_targets(qn)\n",
    "    \n",
    "time.sleep(1)\n",
    "arm1.set_joint_targets(arm1.q_home)"
   ]
  },
  {
   "cell_type": "code",
   "execution_count": null,
   "id": "3b5ccfac",
   "metadata": {},
   "outputs": [],
   "source": [
    "# Default gripper open, home position\n",
    "arm1.set_joint_targets([180.0, -12, 100.2832031, 45.0, 180.0])"
   ]
  },
  {
   "cell_type": "code",
   "execution_count": null,
   "id": "5d8cbbe4",
   "metadata": {},
   "outputs": [],
   "source": [
    "# Default gripper close, home pos\n",
    "arm1.set_joint_targets([180.0, -12, 100.2832031, 45.0, 260.0])"
   ]
  },
  {
   "cell_type": "code",
   "execution_count": null,
   "id": "5ee1c329",
   "metadata": {},
   "outputs": [],
   "source": [
    "# Half open gripper\n",
    "arm1.set_gripper(0.5)\n",
    "time.sleep(3)\n",
    "\n",
    "# Close gripper\n",
    "arm1.set_gripper(1)\n",
    "time.sleep(3)\n",
    "\n",
    "\n",
    "# Open Gripper\n",
    "arm1.set_gripper(0)\n"
   ]
  },
  {
   "cell_type": "code",
   "execution_count": null,
   "id": "125a0f84",
   "metadata": {},
   "outputs": [],
   "source": [
    "# Record trajectory:\n",
    "# Records max 250 steps (0.1 deg deviation of one joint -> record step is taken, max 25 Hz sampling of the robot)\n",
    "# If there is no change for 10 seconds -> finish recording\n",
    "\n",
    "qs,taus,ts = arm1.record_trajectory()\n"
   ]
  },
  {
   "cell_type": "code",
   "execution_count": null,
   "id": "5694720d",
   "metadata": {},
   "outputs": [],
   "source": [
    "print(\"Recoding entries:\", qs.shape[0])\n",
    "print(\"Recoding duration:\", ts[-1])\n",
    "# qs: joint angles\n",
    "# taus: torques\n",
    "# ts: timestamps\n",
    "\n",
    "print(\"\\n\\nStart replay (replay based on record time stamps)...\")\n",
    "arm1.replay_trajectory(qs,ts)\n",
    "print(\"Done!\")\n"
   ]
  },
  {
   "cell_type": "code",
   "execution_count": null,
   "id": "5c2c963c",
   "metadata": {},
   "outputs": [],
   "source": []
  }
 ],
 "metadata": {
  "kernelspec": {
   "display_name": "Python 3 (ipykernel)",
   "language": "python",
   "name": "python3"
  },
  "language_info": {
   "codemirror_mode": {
    "name": "ipython",
    "version": 3
   },
   "file_extension": ".py",
   "mimetype": "text/x-python",
   "name": "python",
   "nbconvert_exporter": "python",
   "pygments_lexer": "ipython3",
   "version": "3.11.6"
  }
 },
 "nbformat": 4,
 "nbformat_minor": 5
}
