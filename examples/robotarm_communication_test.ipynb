{
 "cells": [
  {
   "cell_type": "code",
   "execution_count": 2,
   "id": "41ba9b0b",
   "metadata": {},
   "outputs": [],
   "source": [
    "import serial\n",
    "import io\n"
   ]
  },
  {
   "cell_type": "code",
   "execution_count": 3,
   "id": "4f131b4b",
   "metadata": {},
   "outputs": [
    {
     "name": "stdout",
     "output_type": "stream",
     "text": [
      "/dev/ttyUSB0\n"
     ]
    }
   ],
   "source": [
    "ser = serial.Serial('/dev/ttyUSB0', timeout=0, baudrate=115200)  # open serial port\n",
    "print(ser.name)         # check which port was really used\n",
    "#sio = io.TextIOWrapper(io.BufferedRWPair(ser, ser))"
   ]
  },
  {
   "cell_type": "code",
   "execution_count": 3,
   "id": "5a0368c4",
   "metadata": {},
   "outputs": [],
   "source": [
    "\n",
    "def robotdata(dev):\n",
    "    for l in dev.readlines():\n",
    "        print(l)\n",
    "        \n",
    "def getInfo(dev):\n",
    "    ser.write(b'{\"T\":5}')\n",
    "    robotdata(dev)\n",
    "    \n",
    "\n",
    "\n",
    "# ser.write(b'hello')     # write a string\n"
   ]
  },
  {
   "cell_type": "code",
   "execution_count": 6,
   "id": "61d891b0",
   "metadata": {},
   "outputs": [],
   "source": [
    "ser.close() "
   ]
  },
  {
   "cell_type": "code",
   "execution_count": 4,
   "id": "f43811d5",
   "metadata": {},
   "outputs": [
    {
     "data": {
      "text/plain": [
       "<module 'serial' (<_frozen_importlib_external.NamespaceLoader object at 0x7839e8dfc390>)>"
      ]
     },
     "execution_count": 4,
     "metadata": {},
     "output_type": "execute_result"
    }
   ],
   "source": [
    "serial"
   ]
  },
  {
   "cell_type": "code",
   "execution_count": null,
   "id": "eb932473",
   "metadata": {},
   "outputs": [],
   "source": [
    "getInfo(ser)"
   ]
  },
  {
   "cell_type": "code",
   "execution_count": 11,
   "id": "05ebcf64",
   "metadata": {},
   "outputs": [
    {
     "data": {
      "text/plain": [
       "b'T:5 GET_ANGTOR_INFO\\r\\n'"
      ]
     },
     "execution_count": 11,
     "metadata": {},
     "output_type": "execute_result"
    }
   ],
   "source": [
    "ser.readline()"
   ]
  },
  {
   "cell_type": "code",
   "execution_count": 12,
   "id": "ffcb08ec",
   "metadata": {},
   "outputs": [
    {
     "data": {
      "text/plain": [
       "8"
      ]
     },
     "execution_count": 12,
     "metadata": {},
     "output_type": "execute_result"
    }
   ],
   "source": [
    "ser.write(b\"{\\\"T\\\":5}\\n\")"
   ]
  },
  {
   "cell_type": "code",
   "execution_count": 13,
   "id": "8a806730",
   "metadata": {},
   "outputs": [
    {
     "name": "stdout",
     "output_type": "stream",
     "text": [
      "b'{\"T\":5}\\n'\n"
     ]
    }
   ],
   "source": [
    "print(b\"{\\\"T\\\":5}\\n\")"
   ]
  },
  {
   "cell_type": "code",
   "execution_count": 5,
   "id": "21adaeb8",
   "metadata": {},
   "outputs": [
    {
     "data": {
      "text/plain": [
       "b''"
      ]
     },
     "execution_count": 5,
     "metadata": {},
     "output_type": "execute_result"
    }
   ],
   "source": [
    "ser.read(100)"
   ]
  },
  {
   "cell_type": "code",
   "execution_count": 22,
   "id": "58ebdf37",
   "metadata": {},
   "outputs": [],
   "source": [
    "sio.write(\"{\\\"T\\\":5}\\n\\n\\n\")\n",
    "sio.flush() # it is buffering. required to get the data out *now*\n",
    "\n"
   ]
  },
  {
   "cell_type": "code",
   "execution_count": 24,
   "id": "be17c2c7",
   "metadata": {},
   "outputs": [
    {
     "name": "stdout",
     "output_type": "stream",
     "text": [
      "\n",
      "\n",
      "\n"
     ]
    }
   ],
   "source": []
  },
  {
   "cell_type": "code",
   "execution_count": null,
   "id": "8c0a7675",
   "metadata": {},
   "outputs": [],
   "source": []
  },
  {
   "cell_type": "code",
   "execution_count": null,
   "id": "aceff32e",
   "metadata": {},
   "outputs": [],
   "source": []
  },
  {
   "cell_type": "code",
   "execution_count": null,
   "id": "b637a244",
   "metadata": {},
   "outputs": [],
   "source": []
  }
 ],
 "metadata": {
  "kernelspec": {
   "display_name": "Python 3 (ipykernel)",
   "language": "python",
   "name": "python3"
  },
  "language_info": {
   "codemirror_mode": {
    "name": "ipython",
    "version": 3
   },
   "file_extension": ".py",
   "mimetype": "text/x-python",
   "name": "python",
   "nbconvert_exporter": "python",
   "pygments_lexer": "ipython3",
   "version": "3.11.6"
  }
 },
 "nbformat": 4,
 "nbformat_minor": 5
}
