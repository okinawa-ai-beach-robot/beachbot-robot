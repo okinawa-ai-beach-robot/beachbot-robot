{
 "cells": [
  {
   "cell_type": "code",
   "execution_count": 1,
   "id": "83af0389",
   "metadata": {},
   "outputs": [],
   "source": [
    "import numpy as np\n",
    "import math\n",
    "\n"
   ]
  },
  {
   "cell_type": "code",
   "execution_count": 2,
   "id": "c98a8008",
   "metadata": {},
   "outputs": [],
   "source": [
    "q_home = [180,10,280,135,180]\n",
    "\n",
    "LEN_A = 115.432 # Height offset of base\n",
    "LEN_B = 41.0513 # Translation (x) offset of base rotation joint (1st joint)\n",
    "LEN_C = 168.8579 # Length of first arm link (joint 2 to 3)\n",
    "LEN_D = 127.9234 # Length of secon arm link (joint 3 to 4)\n",
    "\n",
    "LEN_E = 108.5357 # Length of gripper (from joint4 to grasping poit)\n",
    "LEN_F = 7.7076 # Z Offset of gripper\n",
    "\n",
    "LEN_G = 90.0 # Offset (degree) of last rotaitonal joint (joint 4) of gripper\n",
    "LEN_H = -13.75 # shift along y of 1st rotational axis (base, joint 1) of arm. Arm is mounted \"off-center\".\n",
    "\n",
    "initPosX = LEN_B + LEN_D + LEN_E\n",
    "initPosY = LEN_H\n",
    "initPosZ = LEN_A + LEN_C - LEN_F\n",
    "initPosT = 90\n",
    "\n",
    "rateTZ = 2\n",
    "\n",
    "\n",
    "# joint angles to servo positions!!\n",
    "# void ctrlMove(){\n",
    "#   STPos[0] = (int)(angleGenOut(STDirection[0]*InfoBuffer[angle_1]) + 0.5);\n",
    "#   STPos[1] = (int)(angleGenOut(STDirection[1]*InfoBuffer[angle_2]+15)*3 + 0.5);\n",
    "#   STPos[2] = (int)(angleGenOut(STDirection[2]*InfoBuffer[angle_3]+180)  + 0.5);\n",
    "#   STPos[3] = (int)(angleGenOut(STDirection[3]*InfoBuffer[angle_4]+180)  + 0.5);\n",
    "#   st.SyncWritePosEx(STID, 4, STPos, STSpd, STAc);\n",
    "# }\n",
    "\n",
    "\n",
    "# Servo pos to joint angles:\n",
    "# void getAngTorInfo(){\n",
    "#   if(st.FeedBack(1)!=-1){\n",
    "#     jsonStInfoSend[\"A1\"] = angleGenOutReverse(st.ReadPos(-1));\n",
    "#     jsonStInfoSend[\"T1\"] = st.ReadLoad(-1);\n",
    "#   }\n",
    "#   if(st.FeedBack(2)!=-1){\n",
    "#     jsonStInfoSend[\"A2\"] = angleGenOutReverse(st.ReadPos(-1))/3-15;\n",
    "#     jsonStInfoSend[\"T2\"] = st.ReadLoad(-1);\n",
    "#   }\n",
    "#   if(st.FeedBack(3)!=-1){\n",
    "#     jsonStInfoSend[\"A3\"] = angleGenOutReverse(st.ReadPos(-1))-180;\n",
    "#     jsonStInfoSend[\"T3\"] = st.ReadLoad(-1);\n",
    "#   }\n",
    "#   if(st.FeedBack(4)!=-1){\n",
    "#     jsonStInfoSend[\"A4\"] = STDirection[3]*(angleGenOutReverse(st.ReadPos(-1))-180);\n",
    "#     jsonStInfoSend[\"T4\"] = st.ReadLoad(-1);\n",
    "#   }\n",
    "#   if(st.FeedBack(5)!=-1){\n",
    "#     jsonStInfoSend[\"A5\"] = angleGenOutReverse(st.ReadPos(-1));\n",
    "#     jsonStInfoSend[\"T5\"] = st.ReadLoad(-1);\n",
    "#   }\n"
   ]
  },
  {
   "cell_type": "code",
   "execution_count": 3,
   "id": "68c2f536",
   "metadata": {},
   "outputs": [],
   "source": [
    "# Inverse kinematic routines as provided by waveshare:\n",
    "\n",
    "def simpleLinkageIK(LA, LB, aIn, bIn):\n",
    "    if (bIn == 0):\n",
    "        psi   = math.acos((LA * LA + aIn * aIn - LB * LB)/(2 * LA * aIn)) * 180 / math.pi\n",
    "        alpha = 90 - psi\n",
    "        omega = math.acos((aIn * aIn + LB * LB - LA * LA)/(2 * aIn * LB)) * 180 / math.pi\n",
    "        beta  = psi + omega\n",
    "    else:\n",
    "        L2C = aIn * aIn + bIn * bIn\n",
    "        LC  = math.sqrt(L2C)\n",
    "        lamb = math.atan(bIn/aIn) * 180 / math.pi;\n",
    "        psi    = math.acos((LA * LA + L2C - LB * LB)/(2 * LA * LC)) * 180 / math.pi\n",
    "        alpha = 90 - lamb - psi\n",
    "        omega = math.acos((LB * LB + L2C - LA * LA)/(2 * LC * LB)) * 180 / math.pi\n",
    "        beta  = psi + omega\n",
    "\n",
    "    delta = 90 - alpha - beta\n",
    "\n",
    "    if (math.isnan(alpha) or math.isnan(beta) or math.isnan(delta)):\n",
    "        raise Exception(\"NAN\")\n",
    "       \n",
    "    angle_2   = alpha;\n",
    "    angle_3   = beta;\n",
    "    angle_IKE = delta;\n",
    "    return angle_2, angle_3, angle_IKE\n",
    "\n",
    "\n",
    "\n",
    "def EoAT_IK(angleInput):\n",
    "    print(\"angleInput\",angleInput)\n",
    "    if (angleInput == 90):\n",
    "        betaGenOut = angleInput - LEN_G\n",
    "        betaRad    = betaGenOut*math.pi/180\n",
    "        angleRad   = angleInput*math.pi/180\n",
    "        aGenOut = LEN_E;\n",
    "        bGenOut = LEN_F;\n",
    "    elif (angleInput < 90):\n",
    "        betaGenOut = 90 - angleInput\n",
    "        betaRad    = betaGenOut*math.pi/180\n",
    "        angleRad   = angleInput*math.pi/180\n",
    "        aGenOut = math.cos(angleRad)*LEN_F + math.cos(betaRad)*LEN_E\n",
    "        bGenOut = math.sin(angleRad)*LEN_F - math.sin(betaRad)*LEN_E\n",
    "        betaGenOut = -betaGenOut\n",
    "    elif (angleInput > 90):\n",
    "        betaGenOut = LEN_G - (180 -angleInput)\n",
    "        betaRad    = betaGenOut*math.pi/180\n",
    "        angleRad   = angleInput*math.pi/180\n",
    "        aGenOut = - math.cos(math.pi-angleRad)*LEN_F + math.cos(betaRad)*LEN_E\n",
    "        bGenOut = math.sin(math.pi-angleRad)*LEN_F + math.sin(betaRad)*LEN_E\n",
    "    print(\"betaGenOut\",betaGenOut)\n",
    "  \n",
    "    if (math.isnan(betaGenOut)):\n",
    "        raise Exception(\"NAN\")\n",
    "        \n",
    "        \n",
    "    angle_EoAT = betaGenOut\n",
    "    len_a = aGenOut;\n",
    "    len_b = bGenOut;\n",
    "    return angle_EoAT, len_a, len_b\n",
    "\n",
    "\n",
    "\n",
    "def wigglePlaneIK(LA, aIn, bIn):\n",
    "    bIn = -bIn\n",
    "    if (bIn > 0):\n",
    "        L2C = aIn * aIn + bIn * bIn\n",
    "        LC = math.sqrt(L2C)\n",
    "        lamb = math.atan(aIn/bIn) * 180 / math.pi\n",
    "        psi = math.acos(LA/LC) * 180 / math.pi\n",
    "        LB = math.sqrt(L2C - LA * LA)\n",
    "        alpha = psi + lamb - 90\n",
    "    elif (bIn == 0):\n",
    "        alpha = 90+ math.asin(LA/aIn) * 180 / math.pi\n",
    "        L2C = aIn * aIn + bIn * bIn\n",
    "        LB = math.sqrt(L2C)\n",
    "    elif (bIn < 0):\n",
    "        bIn = -bIn;\n",
    "        L2C = aIn * aIn + bIn * bIn\n",
    "        LC = math.sqrt(L2C)\n",
    "        lamb = math.atan(aIn/bIn) * 180 / math.pi\n",
    "        psi = math.acos(LA/LC) * 180 / math.pi\n",
    "        LB = math.sqrt(L2C - LA * LA)\n",
    "        alpha = 90 - lamb + psi\n",
    "        \n",
    "    if (math.isnan(alpha)):\n",
    "        raise Exception(\"NAN\")\n",
    "        \n",
    "    angle_1 = alpha + 90\n",
    "    len_totalXY = LB - LEN_B\n",
    "    return angle_1, len_totalXY\n",
    "\n",
    "def ikin(InputX, InputY, InputZ, InputTheta):\n",
    "    InputTheta = InputTheta/rateTZ\n",
    "    angle_1, len_totalXY = wigglePlaneIK(LEN_H, InputX, InputY)\n",
    "    print(\"angle_1, len_totalXY\",angle_1, len_totalXY)\n",
    "    angle_EoAT, len_a, len_b = EoAT_IK(InputTheta)\n",
    "    print(\"angle_EoAT, len_a, len_b\",angle_EoAT, len_a, len_b)\n",
    "    print(\"len_totalXY-len_a\",len_totalXY-len_a)\n",
    "    print(\"InputZ - LEN_A + len_b\",InputZ - LEN_A + len_b)\n",
    "    angle_2, angle_3, angle_IKE = simpleLinkageIK(LEN_C, LEN_D, (len_totalXY-len_a), (InputZ - LEN_A + len_b))\n",
    "    angle_4 = angle_IKE + angle_EoAT\n",
    "    \n",
    "    return angle_1, angle_2, angle_3, angle_4\n"
   ]
  },
  {
   "cell_type": "code",
   "execution_count": 4,
   "id": "472e7143",
   "metadata": {},
   "outputs": [
    {
     "name": "stdout",
     "output_type": "stream",
     "text": [
      "angle_1, len_totalXY 254.0869211118614 -16.334150083393514\n",
      "angleInput 86.0\n",
      "betaGenOut -4.0\n",
      "angle_EoAT, len_a, len_b -4.0 108.80896748681542 0.11775696643235989\n",
      "len_totalXY-len_a -125.14311757020893\n",
      "InputZ - LEN_A + len_b -95.31424303356764\n",
      "ikin result is: (254.0869211118614, 6.6911120708836975, 117.77460698146626, -38.465719052349954)\n"
     ]
    }
   ],
   "source": [
    "print(\"ikin result is:\", ikin(20,20,20, 172))"
   ]
  },
  {
   "cell_type": "code",
   "execution_count": 5,
   "id": "f668ba2e",
   "metadata": {},
   "outputs": [],
   "source": [
    "# Reconstructed forward kinematic calculation:\n",
    "\n",
    "def rotate(point, angle, origin=(0,0)):\n",
    "    \"\"\"\n",
    "    Rotate a point counterclockwise by a given angle around a given origin.\n",
    "\n",
    "    The angle should be given in degree.\n",
    "    \"\"\"\n",
    "    ox, oy = origin\n",
    "    px, py = point\n",
    "    \n",
    "    angle = angle * math.pi/180\n",
    "\n",
    "    qx = ox + math.cos(angle) * (px - ox) - math.sin(angle) * (py - oy)\n",
    "    qy = oy + math.sin(angle) * (px - ox) + math.cos(angle) * (py - oy)\n",
    "    return qx, qy\n",
    "\n",
    "def translate(point, offset):\n",
    "    \"\"\"\n",
    "    Translate point by offset.\n",
    "\n",
    "    \"\"\"\n",
    "    return point[0]+offset[0], point[1]+offset[1]\n",
    "\n",
    "\n",
    "p=[0,0]\n",
    "\n",
    "rotate((1,0), 90, p)\n",
    "translate((1,0), p)\n",
    "\n",
    "\n",
    "def fkin(angle_1, angle_2, angle_3, angle_4):\n",
    "    p=(0,0)\n",
    "    p = translate(p, (LEN_E,-LEN_F))\n",
    "\n",
    "    p = rotate(p, -angle_4)\n",
    "\n",
    "    p = translate(p, (LEN_D,0))\n",
    "\n",
    "    p = rotate(p, -angle_3)\n",
    "\n",
    "    p = translate(p, (LEN_C,0))\n",
    "\n",
    "    p = rotate(p, 90-angle_2)\n",
    " \n",
    "    p = translate(p, (LEN_B,LEN_A))\n",
    "\n",
    "    \n",
    "    print(angle_1)\n",
    "    p_plane = rotate((p[0],LEN_H), angle_1-180)\n",
    "    \n",
    "    return (p_plane[0], p_plane[1], p[1])\n",
    "\n",
    "    \n",
    "\n",
    "\n",
    "\n"
   ]
  },
  {
   "cell_type": "code",
   "execution_count": 6,
   "id": "71367760",
   "metadata": {},
   "outputs": [
    {
     "name": "stdout",
     "output_type": "stream",
     "text": [
      "angle_1, len_totalXY 180.00000000000003 405.317\n",
      "angleInput 85.0\n",
      "betaGenOut -5.0\n",
      "angle_EoAT, len_a, len_b -5.0 108.79445049647812 -1.781239293125065\n",
      "len_totalXY-len_a 296.5225495035219\n",
      "InputZ - LEN_A + len_b -9.488839293125064\n",
      "ang: -5.0\n",
      "(180.00000000000003, 90.49394426738046, 3.106398789519801, -8.600343056900257)\n",
      "180.00000000000003\n"
     ]
    },
    {
     "data": {
      "text/plain": [
       "(446.3683, -13.749999999999778, 107.72440000000044)"
      ]
     },
     "execution_count": 6,
     "metadata": {},
     "output_type": "execute_result"
    }
   ],
   "source": [
    "ang = 170\n",
    "qs = ikin(LEN_B+LEN_C+LEN_D+LEN_E,LEN_H,LEN_A-LEN_F, ang)\n",
    "print(\"ang:\",ang/2-90)\n",
    "print(qs)\n",
    "fkin(*qs)"
   ]
  },
  {
   "cell_type": "code",
   "execution_count": 10,
   "id": "a8f88d22",
   "metadata": {},
   "outputs": [
    {
     "name": "stdout",
     "output_type": "stream",
     "text": [
      "angle_1, len_totalXY 180.0 182.13285000000002\n",
      "angleInput 75.0\n",
      "betaGenOut -15.0\n",
      "angle_EoAT, len_a, len_b -15.0 106.83230937639462 -20.64613633482804\n",
      "len_totalXY-len_a 75.3005406236054\n",
      "InputZ - LEN_A + len_b 21.64626366517196\n",
      "angles: [180.0, 27.68150627356794, 153.72655942136532, -106.40806569493327]\n",
      "180.0\n",
      "calc:  (223.18415000000005, -13.75, 157.7244)\n",
      "orig:  223.18415000000002 -13.75 157.7244\n"
     ]
    }
   ],
   "source": [
    "\n",
    "#qs_p = [(LEN_B+LEN_C+LEN_D+LEN_E),LEN_H,LEN_A-LEN_F, 180]\n",
    "#qs_p = [(LEN_B+LEN_C+LEN_D+LEN_E)/2,LEN_H,LEN_A-LEN_F, 180]\n",
    "qs_p = [(LEN_B+LEN_C+LEN_D+LEN_E)/2,LEN_H,LEN_A-LEN_F+50, 150]\n",
    "#qs_p = [(LEN_B+LEN_C+LEN_D+LEN_E)/2,LEN_H,LEN_A-LEN_F, 170]\n",
    "\n",
    "qs = ikin(*qs_p)\n",
    "qs=[qs[0],qs[1],qs[2],qs[3]]\n",
    "print(\"angles:\",qs)\n",
    "\n",
    "print(\"calc: \", fkin(*qs))\n",
    "print(\"orig: \", *qs_p[:-1] )\n"
   ]
  },
  {
   "cell_type": "code",
   "execution_count": 104,
   "id": "23469291",
   "metadata": {},
   "outputs": [
    {
     "data": {
      "text/plain": [
       "345.5402"
      ]
     },
     "execution_count": 104,
     "metadata": {},
     "output_type": "execute_result"
    }
   ],
   "source": [
    "LEN_B+LEN_C+LEN_D+LEN_F"
   ]
  },
  {
   "cell_type": "code",
   "execution_count": 159,
   "id": "2fe2d43d",
   "metadata": {},
   "outputs": [
    {
     "data": {
      "text/plain": [
       "115.432"
      ]
     },
     "execution_count": 159,
     "metadata": {},
     "output_type": "execute_result"
    }
   ],
   "source": [
    "LEN_A"
   ]
  },
  {
   "cell_type": "code",
   "execution_count": 100,
   "id": "7be92e36",
   "metadata": {},
   "outputs": [
    {
     "data": {
      "text/plain": [
       "446.36830000000003"
      ]
     },
     "execution_count": 100,
     "metadata": {},
     "output_type": "execute_result"
    }
   ],
   "source": [
    "LEN_B+LEN_C+LEN_D+LEN_E"
   ]
  },
  {
   "cell_type": "code",
   "execution_count": 129,
   "id": "64414f34",
   "metadata": {},
   "outputs": [
    {
     "data": {
      "text/plain": [
       "337.8326"
      ]
     },
     "execution_count": 129,
     "metadata": {},
     "output_type": "execute_result"
    }
   ],
   "source": [
    "LEN_B+LEN_C+LEN_D"
   ]
  },
  {
   "cell_type": "code",
   "execution_count": 136,
   "id": "0b7872e8",
   "metadata": {},
   "outputs": [
    {
     "name": "stdout",
     "output_type": "stream",
     "text": [
      "angle_1, len_totalXY 180.00000000000003 405.317\n",
      "angle_EoAT, len_a, len_b 0.0 108.5357 7.7076\n",
      "len_totalXY-len_a 296.7813\n",
      "InputZ - LEN_A + len_b 15.415199999999999\n"
     ]
    },
    {
     "ename": "ValueError",
     "evalue": "math domain error",
     "output_type": "error",
     "traceback": [
      "\u001b[0;31m---------------------------------------------------------------------------\u001b[0m",
      "\u001b[0;31mValueError\u001b[0m                                Traceback (most recent call last)",
      "Cell \u001b[0;32mIn[136], line 1\u001b[0m\n\u001b[0;32m----> 1\u001b[0m ikin(LEN_B\u001b[38;5;241m+\u001b[39mLEN_C\u001b[38;5;241m+\u001b[39mLEN_D\u001b[38;5;241m+\u001b[39mLEN_E,LEN_H,LEN_A\u001b[38;5;241m+\u001b[39mLEN_F, \u001b[38;5;241m180\u001b[39m)\n",
      "Cell \u001b[0;32mIn[132], line 98\u001b[0m, in \u001b[0;36mikin\u001b[0;34m(InputX, InputY, InputZ, InputTheta)\u001b[0m\n\u001b[1;32m     96\u001b[0m \u001b[38;5;28mprint\u001b[39m(\u001b[38;5;124m\"\u001b[39m\u001b[38;5;124mlen_totalXY-len_a\u001b[39m\u001b[38;5;124m\"\u001b[39m,len_totalXY\u001b[38;5;241m-\u001b[39mlen_a)\n\u001b[1;32m     97\u001b[0m \u001b[38;5;28mprint\u001b[39m(\u001b[38;5;124m\"\u001b[39m\u001b[38;5;124mInputZ - LEN_A + len_b\u001b[39m\u001b[38;5;124m\"\u001b[39m,InputZ \u001b[38;5;241m-\u001b[39m LEN_A \u001b[38;5;241m+\u001b[39m len_b)\n\u001b[0;32m---> 98\u001b[0m angle_2, angle_3, angle_IKE \u001b[38;5;241m=\u001b[39m simpleLinkageIK(LEN_C, LEN_D, (len_totalXY\u001b[38;5;241m-\u001b[39mlen_a), (InputZ \u001b[38;5;241m-\u001b[39m LEN_A \u001b[38;5;241m+\u001b[39m len_b))\n\u001b[1;32m     99\u001b[0m angle_4 \u001b[38;5;241m=\u001b[39m angle_IKE \u001b[38;5;241m+\u001b[39m angle_EoAT\n\u001b[1;32m    101\u001b[0m \u001b[38;5;28;01mreturn\u001b[39;00m angle_1, angle_2, angle_3, angle_4\n",
      "Cell \u001b[0;32mIn[132], line 11\u001b[0m, in \u001b[0;36msimpleLinkageIK\u001b[0;34m(LA, LB, aIn, bIn)\u001b[0m\n\u001b[1;32m      9\u001b[0m LC  \u001b[38;5;241m=\u001b[39m math\u001b[38;5;241m.\u001b[39msqrt(L2C)\n\u001b[1;32m     10\u001b[0m lamb \u001b[38;5;241m=\u001b[39m math\u001b[38;5;241m.\u001b[39matan(bIn\u001b[38;5;241m/\u001b[39maIn) \u001b[38;5;241m*\u001b[39m \u001b[38;5;241m180\u001b[39m \u001b[38;5;241m/\u001b[39m math\u001b[38;5;241m.\u001b[39mpi;\n\u001b[0;32m---> 11\u001b[0m psi    \u001b[38;5;241m=\u001b[39m math\u001b[38;5;241m.\u001b[39macos((LA \u001b[38;5;241m*\u001b[39m LA \u001b[38;5;241m+\u001b[39m L2C \u001b[38;5;241m-\u001b[39m LB \u001b[38;5;241m*\u001b[39m LB)\u001b[38;5;241m/\u001b[39m(\u001b[38;5;241m2\u001b[39m \u001b[38;5;241m*\u001b[39m LA \u001b[38;5;241m*\u001b[39m LC)) \u001b[38;5;241m*\u001b[39m \u001b[38;5;241m180\u001b[39m \u001b[38;5;241m/\u001b[39m math\u001b[38;5;241m.\u001b[39mpi\n\u001b[1;32m     12\u001b[0m alpha \u001b[38;5;241m=\u001b[39m \u001b[38;5;241m90\u001b[39m \u001b[38;5;241m-\u001b[39m lamb \u001b[38;5;241m-\u001b[39m psi\n\u001b[1;32m     13\u001b[0m omega \u001b[38;5;241m=\u001b[39m math\u001b[38;5;241m.\u001b[39macos((LB \u001b[38;5;241m*\u001b[39m LB \u001b[38;5;241m+\u001b[39m L2C \u001b[38;5;241m-\u001b[39m LA \u001b[38;5;241m*\u001b[39m LA)\u001b[38;5;241m/\u001b[39m(\u001b[38;5;241m2\u001b[39m \u001b[38;5;241m*\u001b[39m LC \u001b[38;5;241m*\u001b[39m LB)) \u001b[38;5;241m*\u001b[39m \u001b[38;5;241m180\u001b[39m \u001b[38;5;241m/\u001b[39m math\u001b[38;5;241m.\u001b[39mpi\n",
      "\u001b[0;31mValueError\u001b[0m: math domain error"
     ]
    }
   ],
   "source": [
    "ikin(LEN_B+LEN_C+LEN_D+LEN_E,LEN_H,LEN_A+LEN_F, 180)"
   ]
  },
  {
   "cell_type": "code",
   "execution_count": 123,
   "id": "453b64f4",
   "metadata": {},
   "outputs": [
    {
     "data": {
      "text/plain": [
       "337.8326"
      ]
     },
     "execution_count": 123,
     "metadata": {},
     "output_type": "execute_result"
    }
   ],
   "source": [
    "LEN_B+LEN_C+LEN_D"
   ]
  },
  {
   "cell_type": "code",
   "execution_count": null,
   "id": "c0e5ab33",
   "metadata": {},
   "outputs": [],
   "source": []
  }
 ],
 "metadata": {
  "kernelspec": {
   "display_name": "BeachBot",
   "language": "python",
   "name": "beachbot"
  },
  "language_info": {
   "codemirror_mode": {
    "name": "ipython",
    "version": 3
   },
   "file_extension": ".py",
   "mimetype": "text/x-python",
   "name": "python",
   "nbconvert_exporter": "python",
   "pygments_lexer": "ipython3",
   "version": "3.11.5"
  }
 },
 "nbformat": 4,
 "nbformat_minor": 5
}
